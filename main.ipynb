{
 "cells": [
  {
   "cell_type": "code",
   "execution_count": 1,
   "id": "initial_id",
   "metadata": {
    "collapsed": true,
    "ExecuteTime": {
     "end_time": "2024-04-17T20:33:53.585991800Z",
     "start_time": "2024-04-17T20:33:52.654036400Z"
    }
   },
   "outputs": [],
   "source": [
    "import numpy as np\n",
    "from lxml import etree as ET\n",
    "import pandas as pd\n",
    "import pickle\n",
    "import networkx as nx\n",
    "import matplotlib.pyplot as plt\n",
    "import requests\n",
    "import random\n",
    "import tqdm\n",
    "from concurrent.futures import ThreadPoolExecutor\n",
    "import time"
   ]
  },
  {
   "cell_type": "code",
   "execution_count": 2,
   "outputs": [],
   "source": [
    "def fetch_xml_from_url(url):\n",
    "    try:\n",
    "        response = requests.get(url)\n",
    "        url1=response.url\n",
    "        if response.status_code==429:\n",
    "            retry_after = int(response.headers['Retry-After'])\n",
    "            print('429 error, retry after', retry_after)\n",
    "            time.sleep(retry_after+10)\n",
    "            return fetch_xml_from_url(url)\n",
    "        if response.status_code != 200:\n",
    "            print('Error fetching xml from url')\n",
    "            print(\"URL: \", url)\n",
    "            print(\"Status code: \", response.status_code)\n",
    "            #print(\"Response: \", response.content)\n",
    "            return None\n",
    "        if url1.endswith('.html'):\n",
    "            url1=url1.replace('.html','.xml')\n",
    "            return fetch_xml_from_url(url1)\n",
    "        return ET.fromstring(response.content)\n",
    "    except Exception as e:\n",
    "        print(e)\n",
    "        print('Error fetching xml from url')\n",
    "        print(\"URL: \", url)\n",
    "        print(\"Status code: \", response.status_code)\n",
    "        #print(\"Response: \", response.content)\n",
    "        return None\n",
    "def is_disambiguation(xml):\n",
    "    person_element = xml.find(\".//person\")\n",
    "    if person_element is not None:\n",
    "        publtype = person_element.get(\"publtype\")\n",
    "        return publtype == \"disambiguation\"\n",
    "    return False"
   ],
   "metadata": {
    "collapsed": false,
    "ExecuteTime": {
     "end_time": "2024-04-17T20:33:53.594129900Z",
     "start_time": "2024-04-17T20:33:53.588453100Z"
    }
   },
   "id": "c5e3f1cca4c1b1c9"
  },
  {
   "cell_type": "code",
   "execution_count": 3,
   "outputs": [
    {
     "data": {
      "text/plain": "                      name        country  \\\n0             aaron elmore  united states   \n1      abdalghani abujabal        germany   \n2             abdul quamar  united states   \n3        abdulhakim qahtan    netherlands   \n4     abhijnan chakraborty        germany   \n...                    ...            ...   \n1215          zixian huang          china   \n1216            zoi kaoudi          qatar   \n1217            zoi kaoudi        germany   \n1218          zsolt istvan        germany   \n1219             zuohui fu  united states   \n\n                                    institution  \\\n0                         university of chicago   \n1                                  amazon alexa   \n2                          ibm research almaden   \n3                            utrecht university   \n4     max planck institute for software systems   \n...                                         ...   \n1215                         nanjing university   \n1216         qatar computing research institute   \n1217                                  tu berlin   \n1218                               tu darmstadt   \n1219                         rutgers university   \n\n                                                   dblp  expertise  \n0          https://dblp.org/pers/e/Elmore:Aaron_J=.html          4  \n1      https://dblp.org/pers/a/Abujabal:Abdalghani.html          6  \n2             https://dblp.org/pers/q/Quamar:Abdul.html          7  \n3                    https://dblp.org/pid/121/4198.html         10  \n4     https://dblp.org/pers/c/Chakraborty:Abhijnan.html          5  \n...                                                 ...        ...  \n1215   https://dblp.uni-trier.de/pers/hd/h/Huang:Zixian          5  \n1216            https://dblp.org/pers/k/Kaoudi:Zoi.html          9  \n1217            https://dblp.org/pers/k/Kaoudi:Zoi.html          5  \n1218                 https://dblp.org/pid/50/10703.html          1  \n1219             https://dblp.org/pers/f/Fu:Zuohui.html          6  \n\n[1220 rows x 5 columns]",
      "text/html": "<div>\n<style scoped>\n    .dataframe tbody tr th:only-of-type {\n        vertical-align: middle;\n    }\n\n    .dataframe tbody tr th {\n        vertical-align: top;\n    }\n\n    .dataframe thead th {\n        text-align: right;\n    }\n</style>\n<table border=\"1\" class=\"dataframe\">\n  <thead>\n    <tr style=\"text-align: right;\">\n      <th></th>\n      <th>name</th>\n      <th>country</th>\n      <th>institution</th>\n      <th>dblp</th>\n      <th>expertise</th>\n    </tr>\n  </thead>\n  <tbody>\n    <tr>\n      <th>0</th>\n      <td>aaron elmore</td>\n      <td>united states</td>\n      <td>university of chicago</td>\n      <td>https://dblp.org/pers/e/Elmore:Aaron_J=.html</td>\n      <td>4</td>\n    </tr>\n    <tr>\n      <th>1</th>\n      <td>abdalghani abujabal</td>\n      <td>germany</td>\n      <td>amazon alexa</td>\n      <td>https://dblp.org/pers/a/Abujabal:Abdalghani.html</td>\n      <td>6</td>\n    </tr>\n    <tr>\n      <th>2</th>\n      <td>abdul quamar</td>\n      <td>united states</td>\n      <td>ibm research almaden</td>\n      <td>https://dblp.org/pers/q/Quamar:Abdul.html</td>\n      <td>7</td>\n    </tr>\n    <tr>\n      <th>3</th>\n      <td>abdulhakim qahtan</td>\n      <td>netherlands</td>\n      <td>utrecht university</td>\n      <td>https://dblp.org/pid/121/4198.html</td>\n      <td>10</td>\n    </tr>\n    <tr>\n      <th>4</th>\n      <td>abhijnan chakraborty</td>\n      <td>germany</td>\n      <td>max planck institute for software systems</td>\n      <td>https://dblp.org/pers/c/Chakraborty:Abhijnan.html</td>\n      <td>5</td>\n    </tr>\n    <tr>\n      <th>...</th>\n      <td>...</td>\n      <td>...</td>\n      <td>...</td>\n      <td>...</td>\n      <td>...</td>\n    </tr>\n    <tr>\n      <th>1215</th>\n      <td>zixian huang</td>\n      <td>china</td>\n      <td>nanjing university</td>\n      <td>https://dblp.uni-trier.de/pers/hd/h/Huang:Zixian</td>\n      <td>5</td>\n    </tr>\n    <tr>\n      <th>1216</th>\n      <td>zoi kaoudi</td>\n      <td>qatar</td>\n      <td>qatar computing research institute</td>\n      <td>https://dblp.org/pers/k/Kaoudi:Zoi.html</td>\n      <td>9</td>\n    </tr>\n    <tr>\n      <th>1217</th>\n      <td>zoi kaoudi</td>\n      <td>germany</td>\n      <td>tu berlin</td>\n      <td>https://dblp.org/pers/k/Kaoudi:Zoi.html</td>\n      <td>5</td>\n    </tr>\n    <tr>\n      <th>1218</th>\n      <td>zsolt istvan</td>\n      <td>germany</td>\n      <td>tu darmstadt</td>\n      <td>https://dblp.org/pid/50/10703.html</td>\n      <td>1</td>\n    </tr>\n    <tr>\n      <th>1219</th>\n      <td>zuohui fu</td>\n      <td>united states</td>\n      <td>rutgers university</td>\n      <td>https://dblp.org/pers/f/Fu:Zuohui.html</td>\n      <td>6</td>\n    </tr>\n  </tbody>\n</table>\n<p>1220 rows × 5 columns</p>\n</div>"
     },
     "execution_count": 3,
     "metadata": {},
     "output_type": "execute_result"
    }
   ],
   "source": [
    "ori_data= pd.read_excel(\"DataScientists.xls\")\n",
    "ori_data['expertise'] = np.random.randint(1, 11, ori_data.shape[0])\n",
    "ori_data"
   ],
   "metadata": {
    "collapsed": false,
    "ExecuteTime": {
     "end_time": "2024-04-17T20:33:54.145367700Z",
     "start_time": "2024-04-17T20:33:54.104731500Z"
    }
   },
   "id": "67f74fe0a5bfe969"
  },
  {
   "cell_type": "code",
   "execution_count": 4,
   "outputs": [
    {
     "name": "stderr",
     "output_type": "stream",
     "text": [
      "  0%|          | 6/1220 [00:05<19:27,  1.04it/s]"
     ]
    },
    {
     "name": "stdout",
     "output_type": "stream",
     "text": [
      "Error fetching xml from url\n",
      "URL:  https://dblp.org/pid/39/1380.xml\n",
      "Status code:  410\n"
     ]
    },
    {
     "name": "stderr",
     "output_type": "stream",
     "text": [
      "  5%|▍         | 56/1220 [01:01<25:06,  1.29s/it]"
     ]
    },
    {
     "name": "stdout",
     "output_type": "stream",
     "text": [
      "Error fetching xml from url\n",
      "URL:  https://dblp.uni-trier.de/pers/c/Chakraborty:Anirban.xml\n",
      "Status code:  410\n"
     ]
    },
    {
     "name": "stderr",
     "output_type": "stream",
     "text": [
      " 12%|█▏        | 148/1220 [02:41<18:34,  1.04s/it]"
     ]
    },
    {
     "name": "stdout",
     "output_type": "stream",
     "text": [
      "Error fetching xml from url\n",
      "URL:  https://dblp.org/pid/92/2769.xml\n",
      "Status code:  404\n"
     ]
    },
    {
     "name": "stderr",
     "output_type": "stream",
     "text": [
      " 12%|█▏        | 149/1220 [02:42<18:15,  1.02s/it]"
     ]
    },
    {
     "name": "stdout",
     "output_type": "stream",
     "text": [
      "Error fetching xml from url\n",
      "URL:  https://dblp.org/pid/148/7268.xml\n",
      "Status code:  410\n"
     ]
    },
    {
     "name": "stderr",
     "output_type": "stream",
     "text": [
      " 18%|█▊        | 214/1220 [03:59<20:29,  1.22s/it]"
     ]
    },
    {
     "name": "stdout",
     "output_type": "stream",
     "text": [
      "Error fetching xml from url\n",
      "URL:  https://dblp.uni-trier.de/pers/b/Barbosa:Denilson.xml\n",
      "Status code:  410\n"
     ]
    },
    {
     "name": "stderr",
     "output_type": "stream",
     "text": [
      " 18%|█▊        | 216/1220 [04:01<19:07,  1.14s/it]"
     ]
    },
    {
     "name": "stdout",
     "output_type": "stream",
     "text": [
      "Error fetching xml from url\n",
      "URL:  https://dblp.org/pers/g/Georgakopoulos:Dimitrios.xml\n",
      "Status code:  410\n"
     ]
    },
    {
     "name": "stderr",
     "output_type": "stream",
     "text": [
      " 18%|█▊        | 225/1220 [04:12<17:13,  1.04s/it]"
     ]
    },
    {
     "name": "stdout",
     "output_type": "stream",
     "text": [
      "Error fetching xml from url\n",
      "URL:  https://dblp.org/pid/161/0102.xml\n",
      "Status code:  410\n"
     ]
    },
    {
     "name": "stderr",
     "output_type": "stream",
     "text": [
      " 22%|██▏       | 263/1220 [04:52<13:54,  1.15it/s]"
     ]
    },
    {
     "name": "stdout",
     "output_type": "stream",
     "text": [
      "Error fetching xml from url\n",
      "URL:  https://dblp.org/pers/m/Mansour:Essam.xml\n",
      "Status code:  410\n"
     ]
    },
    {
     "name": "stderr",
     "output_type": "stream",
     "text": [
      " 22%|██▏       | 264/1220 [04:53<14:06,  1.13it/s]"
     ]
    },
    {
     "name": "stdout",
     "output_type": "stream",
     "text": [
      "Error fetching xml from url\n",
      "URL:  https://dblp.org/pers/m/Mansour:Essam.xml\n",
      "Status code:  410\n"
     ]
    },
    {
     "name": "stderr",
     "output_type": "stream",
     "text": [
      " 24%|██▎       | 289/1220 [05:23<17:08,  1.10s/it]"
     ]
    },
    {
     "name": "stdout",
     "output_type": "stream",
     "text": [
      "Error fetching xml from url\n",
      "URL:  https://dblp.org/pid/284/0968.xml\n",
      "Status code:  404\n"
     ]
    },
    {
     "name": "stderr",
     "output_type": "stream",
     "text": [
      " 30%|███       | 367/1220 [06:47<15:38,  1.10s/it]"
     ]
    },
    {
     "name": "stdout",
     "output_type": "stream",
     "text": [
      "Error fetching xml from url\n",
      "URL:  https://dblp.org/pid/98/5721.xml\n",
      "Status code:  410\n"
     ]
    },
    {
     "name": "stderr",
     "output_type": "stream",
     "text": [
      " 32%|███▏      | 392/1220 [07:12<13:53,  1.01s/it]"
     ]
    },
    {
     "name": "stdout",
     "output_type": "stream",
     "text": [
      "Error fetching xml from url\n",
      "URL:  https://dblp.org/pers/j/Jung:Hyungsoo.xml\n",
      "Status code:  410\n"
     ]
    },
    {
     "name": "stderr",
     "output_type": "stream",
     "text": [
      " 32%|███▏      | 396/1220 [07:17<15:12,  1.11s/it]"
     ]
    },
    {
     "name": "stdout",
     "output_type": "stream",
     "text": [
      "Error fetching xml from url\n",
      "URL:  https://dblp.uni-trier.de/pers/p/Petrov:Ilia.xml\n",
      "Status code:  410\n"
     ]
    },
    {
     "name": "stderr",
     "output_type": "stream",
     "text": [
      " 33%|███▎      | 397/1220 [07:18<14:05,  1.03s/it]"
     ]
    },
    {
     "name": "stdout",
     "output_type": "stream",
     "text": [
      "Error fetching xml from url\n",
      "URL:  https://dblp.uni-trier.de/pers/p/Petrov:Ilia.xml\n",
      "Status code:  410\n"
     ]
    },
    {
     "name": "stderr",
     "output_type": "stream",
     "text": [
      " 42%|████▏     | 511/1220 [09:39<11:02,  1.07it/s]"
     ]
    },
    {
     "name": "stdout",
     "output_type": "stream",
     "text": [
      "Error fetching xml from url\n",
      "URL:  https://dblp.org/pers/h/Hui:Kai.xml\n",
      "Status code:  410\n"
     ]
    },
    {
     "name": "stderr",
     "output_type": "stream",
     "text": [
      " 52%|█████▏    | 631/1220 [12:08<09:29,  1.03it/s]"
     ]
    },
    {
     "name": "stdout",
     "output_type": "stream",
     "text": [
      "Error fetching xml from url\n",
      "URL:  https://dblp.org/pers/w/Weidlich:Matthias.xml\n",
      "Status code:  410\n"
     ]
    },
    {
     "name": "stderr",
     "output_type": "stream",
     "text": [
      " 55%|█████▍    | 667/1220 [12:49<11:25,  1.24s/it]"
     ]
    },
    {
     "name": "stdout",
     "output_type": "stream",
     "text": [
      "Error fetching xml from url\n",
      "URL:  https://dblp.uni-trier.de/pers/hd/n/Nikolic:Milos.xml\n",
      "Status code:  410\n"
     ]
    },
    {
     "name": "stderr",
     "output_type": "stream",
     "text": [
      " 72%|███████▏  | 879/1220 [16:57<07:02,  1.24s/it]"
     ]
    },
    {
     "name": "stdout",
     "output_type": "stream",
     "text": [
      "Error fetching xml from url\n",
      "URL:  https://dblp.org/pers/z/Zhang:Ruqing.xml\n",
      "Status code:  410\n"
     ]
    },
    {
     "name": "stderr",
     "output_type": "stream",
     "text": [
      " 82%|████████▏ | 1000/1220 [20:24<04:19,  1.18s/it] "
     ]
    },
    {
     "name": "stdout",
     "output_type": "stream",
     "text": [
      "Error fetching xml from url\n",
      "URL:  https://dblp.dagstuhl.de/pid/y/TingYu.xml\n",
      "Status code:  410\n"
     ]
    },
    {
     "name": "stderr",
     "output_type": "stream",
     "text": [
      " 82%|████████▏ | 1001/1220 [20:25<04:00,  1.10s/it]"
     ]
    },
    {
     "name": "stdout",
     "output_type": "stream",
     "text": [
      "Error fetching xml from url\n",
      "URL:  https://dblp.dagstuhl.de/pid/y/TingYu.xml\n",
      "Status code:  410\n"
     ]
    },
    {
     "name": "stderr",
     "output_type": "stream",
     "text": [
      " 97%|█████████▋| 1188/1220 [25:13<00:36,  1.15s/it]"
     ]
    },
    {
     "name": "stdout",
     "output_type": "stream",
     "text": [
      "Error fetching xml from url\n",
      "URL:  https://dblp.uni-trier.de/pers/t/Tao:Yufei.xml\n",
      "Status code:  410\n"
     ]
    },
    {
     "name": "stderr",
     "output_type": "stream",
     "text": [
      " 97%|█████████▋| 1189/1220 [25:14<00:33,  1.08s/it]"
     ]
    },
    {
     "name": "stdout",
     "output_type": "stream",
     "text": [
      "Error fetching xml from url\n",
      "URL:  https://dblp.uni-trier.de/pers/t/Tao:Yufei.xml\n",
      "Status code:  410\n"
     ]
    },
    {
     "name": "stderr",
     "output_type": "stream",
     "text": [
      "100%|██████████| 1220/1220 [26:02<00:00,  1.32s/it]"
     ]
    }
   ],
   "source": [
    "pids=[]\n",
    "pid_xml={}\n",
    "def single_xml(url):\n",
    "    global pids,pid_xml\n",
    "    if url.endswith('.html'):\n",
    "        url=url.replace('.html','.xml')\n",
    "    elif not url.endswith('.xml'):\n",
    "        url=url+'.xml'\n",
    "    xml=fetch_xml_from_url(url)\n",
    "    if xml is not None:\n",
    "        if not is_disambiguation(xml):\n",
    "            pid=xml.xpath('//dblpperson')[0].attrib['pid']\n",
    "            pids.append(pid)\n",
    "            pid_xml[pid]=xml\n",
    "        else:\n",
    "            pids.append(None)\n",
    "    else:\n",
    "        pids.append(None)\n",
    "processbar=tqdm.tqdm(total=ori_data.shape[0])\n",
    "url_list=ori_data[\"dblp\"].to_list()\n",
    "for url in url_list:\n",
    "    single_xml(url)\n",
    "    processbar.update(1)"
   ],
   "metadata": {
    "collapsed": false,
    "ExecuteTime": {
     "end_time": "2024-04-17T20:59:57.611458800Z",
     "start_time": "2024-04-17T20:33:54.733998100Z"
    }
   },
   "id": "b4e80749a45698a1"
  },
  {
   "cell_type": "code",
   "execution_count": 5,
   "outputs": [],
   "source": [
    "ori_data['pid']=pids"
   ],
   "metadata": {
    "collapsed": false,
    "ExecuteTime": {
     "end_time": "2024-04-17T21:28:34.046565900Z",
     "start_time": "2024-04-17T21:28:34.038652700Z"
    }
   },
   "id": "e1133ba87afe4bd"
  },
  {
   "cell_type": "code",
   "execution_count": 7,
   "outputs": [
    {
     "data": {
      "text/plain": "                      name        country  \\\n0             aaron elmore  united states   \n1      abdalghani abujabal        germany   \n2             abdul quamar  united states   \n3        abdulhakim qahtan    netherlands   \n4     abhijnan chakraborty        germany   \n...                    ...            ...   \n1215          zixian huang          china   \n1216            zoi kaoudi          qatar   \n1217            zoi kaoudi        germany   \n1218          zsolt istvan        germany   \n1219             zuohui fu  united states   \n\n                                    institution  \\\n0                         university of chicago   \n1                                  amazon alexa   \n2                          ibm research almaden   \n3                            utrecht university   \n4     max planck institute for software systems   \n...                                         ...   \n1215                         nanjing university   \n1216         qatar computing research institute   \n1217                                  tu berlin   \n1218                               tu darmstadt   \n1219                         rutgers university   \n\n                                                   dblp  expertise       pid  \n0          https://dblp.org/pers/e/Elmore:Aaron_J=.html          4   75/9436  \n1      https://dblp.org/pers/a/Abujabal:Abdalghani.html          6  162/9092  \n2             https://dblp.org/pers/q/Quamar:Abdul.html          7  127/6195  \n3                    https://dblp.org/pid/121/4198.html         10  121/4198  \n4     https://dblp.org/pers/c/Chakraborty:Abhijnan.html          5  116/1678  \n...                                                 ...        ...       ...  \n1215   https://dblp.uni-trier.de/pers/hd/h/Huang:Zixian          5  247/5762  \n1216            https://dblp.org/pers/k/Kaoudi:Zoi.html          9   65/1457  \n1217            https://dblp.org/pers/k/Kaoudi:Zoi.html          5   65/1457  \n1218                 https://dblp.org/pid/50/10703.html          1  50/10703  \n1219             https://dblp.org/pers/f/Fu:Zuohui.html          6  146/6971  \n\n[1172 rows x 6 columns]",
      "text/html": "<div>\n<style scoped>\n    .dataframe tbody tr th:only-of-type {\n        vertical-align: middle;\n    }\n\n    .dataframe tbody tr th {\n        vertical-align: top;\n    }\n\n    .dataframe thead th {\n        text-align: right;\n    }\n</style>\n<table border=\"1\" class=\"dataframe\">\n  <thead>\n    <tr style=\"text-align: right;\">\n      <th></th>\n      <th>name</th>\n      <th>country</th>\n      <th>institution</th>\n      <th>dblp</th>\n      <th>expertise</th>\n      <th>pid</th>\n    </tr>\n  </thead>\n  <tbody>\n    <tr>\n      <th>0</th>\n      <td>aaron elmore</td>\n      <td>united states</td>\n      <td>university of chicago</td>\n      <td>https://dblp.org/pers/e/Elmore:Aaron_J=.html</td>\n      <td>4</td>\n      <td>75/9436</td>\n    </tr>\n    <tr>\n      <th>1</th>\n      <td>abdalghani abujabal</td>\n      <td>germany</td>\n      <td>amazon alexa</td>\n      <td>https://dblp.org/pers/a/Abujabal:Abdalghani.html</td>\n      <td>6</td>\n      <td>162/9092</td>\n    </tr>\n    <tr>\n      <th>2</th>\n      <td>abdul quamar</td>\n      <td>united states</td>\n      <td>ibm research almaden</td>\n      <td>https://dblp.org/pers/q/Quamar:Abdul.html</td>\n      <td>7</td>\n      <td>127/6195</td>\n    </tr>\n    <tr>\n      <th>3</th>\n      <td>abdulhakim qahtan</td>\n      <td>netherlands</td>\n      <td>utrecht university</td>\n      <td>https://dblp.org/pid/121/4198.html</td>\n      <td>10</td>\n      <td>121/4198</td>\n    </tr>\n    <tr>\n      <th>4</th>\n      <td>abhijnan chakraborty</td>\n      <td>germany</td>\n      <td>max planck institute for software systems</td>\n      <td>https://dblp.org/pers/c/Chakraborty:Abhijnan.html</td>\n      <td>5</td>\n      <td>116/1678</td>\n    </tr>\n    <tr>\n      <th>...</th>\n      <td>...</td>\n      <td>...</td>\n      <td>...</td>\n      <td>...</td>\n      <td>...</td>\n      <td>...</td>\n    </tr>\n    <tr>\n      <th>1215</th>\n      <td>zixian huang</td>\n      <td>china</td>\n      <td>nanjing university</td>\n      <td>https://dblp.uni-trier.de/pers/hd/h/Huang:Zixian</td>\n      <td>5</td>\n      <td>247/5762</td>\n    </tr>\n    <tr>\n      <th>1216</th>\n      <td>zoi kaoudi</td>\n      <td>qatar</td>\n      <td>qatar computing research institute</td>\n      <td>https://dblp.org/pers/k/Kaoudi:Zoi.html</td>\n      <td>9</td>\n      <td>65/1457</td>\n    </tr>\n    <tr>\n      <th>1217</th>\n      <td>zoi kaoudi</td>\n      <td>germany</td>\n      <td>tu berlin</td>\n      <td>https://dblp.org/pers/k/Kaoudi:Zoi.html</td>\n      <td>5</td>\n      <td>65/1457</td>\n    </tr>\n    <tr>\n      <th>1218</th>\n      <td>zsolt istvan</td>\n      <td>germany</td>\n      <td>tu darmstadt</td>\n      <td>https://dblp.org/pid/50/10703.html</td>\n      <td>1</td>\n      <td>50/10703</td>\n    </tr>\n    <tr>\n      <th>1219</th>\n      <td>zuohui fu</td>\n      <td>united states</td>\n      <td>rutgers university</td>\n      <td>https://dblp.org/pers/f/Fu:Zuohui.html</td>\n      <td>6</td>\n      <td>146/6971</td>\n    </tr>\n  </tbody>\n</table>\n<p>1172 rows × 6 columns</p>\n</div>"
     },
     "execution_count": 7,
     "metadata": {},
     "output_type": "execute_result"
    }
   ],
   "source": [
    "#drop the rows that pid is None\n",
    "ori_data=ori_data.dropna(subset=['pid'])"
   ],
   "metadata": {
    "collapsed": false,
    "ExecuteTime": {
     "end_time": "2024-04-17T21:29:21.285731500Z",
     "start_time": "2024-04-17T21:29:21.271564Z"
    }
   },
   "id": "b1a82615df87bbd8"
  },
  {
   "cell_type": "code",
   "execution_count": 31,
   "outputs": [],
   "source": [
    "ori_data.to_csv('cleaned_data.csv',index=False)"
   ],
   "metadata": {
    "collapsed": false,
    "ExecuteTime": {
     "end_time": "2024-04-17T21:55:51.041072400Z",
     "start_time": "2024-04-17T21:55:51.019481200Z"
    }
   },
   "id": "84ef1fd46114e5cd"
  },
  {
   "cell_type": "code",
   "execution_count": 20,
   "outputs": [],
   "source": [
    "r_list=[]\n",
    "pids=list(pid_xml.keys())\n",
    "idx=[i for i in range(len(pids))]\n",
    "pid_idx=dict(zip(pids,idx))\n",
    "inv_pid_idx=dict(zip(idx,pids))\n",
    "for pid in pid_xml:\n",
    "    x=pid_xml[pid]\n",
    "    r1=x.xpath('//r')\n",
    "    r_list.extend(r1)"
   ],
   "metadata": {
    "collapsed": false,
    "ExecuteTime": {
     "end_time": "2024-04-17T21:40:56.675066700Z",
     "start_time": "2024-04-17T21:40:56.510120200Z"
    }
   },
   "id": "ebd31ea032152db8"
  },
  {
   "cell_type": "code",
   "execution_count": 26,
   "outputs": [
    {
     "name": "stderr",
     "output_type": "stream",
     "text": [
      "\n",
      "100%|██████████| 127830/127830 [01:52<00:00, 1136.61it/s]\n",
      "\n",
      "  1%|          | 1569/127830 [00:00<00:08, 15536.04it/s]\u001B[A\n",
      "  2%|▏         | 3123/127830 [00:00<00:09, 12482.07it/s]\u001B[A\n",
      "  3%|▎         | 4408/127830 [00:00<00:10, 11549.83it/s]\u001B[A\n",
      "  4%|▍         | 5582/127830 [00:00<00:14, 8379.97it/s] \u001B[A\n",
      "  5%|▌         | 6982/127830 [00:00<00:12, 9828.68it/s]\u001B[A\n",
      "  7%|▋         | 8498/127830 [00:00<00:10, 11270.22it/s]\u001B[A\n",
      "  8%|▊         | 9735/127830 [00:00<00:12, 9557.88it/s] \u001B[A\n",
      "  8%|▊         | 10798/127830 [00:01<00:12, 9583.38it/s]\u001B[A\n",
      "  9%|▉         | 11830/127830 [00:01<00:13, 8775.76it/s]\u001B[A\n",
      " 10%|█         | 13061/127830 [00:01<00:11, 9638.98it/s]\u001B[A\n",
      " 11%|█         | 14084/127830 [00:01<00:13, 8671.31it/s]\u001B[A\n",
      " 12%|█▏        | 15004/127830 [00:01<00:13, 8165.05it/s]\u001B[A\n",
      " 12%|█▏        | 15857/127830 [00:01<00:14, 7825.65it/s]\u001B[A\n",
      " 13%|█▎        | 16839/127830 [00:01<00:13, 8321.32it/s]\u001B[A\n",
      " 14%|█▍        | 17761/127830 [00:01<00:12, 8549.44it/s]\u001B[A\n",
      " 15%|█▍        | 18644/127830 [00:02<00:12, 8625.28it/s]\u001B[A\n",
      " 15%|█▌        | 19523/127830 [00:02<00:13, 8264.42it/s]\u001B[A\n",
      " 16%|█▌        | 20363/127830 [00:02<00:13, 7694.53it/s]\u001B[A\n",
      " 17%|█▋        | 21227/127830 [00:02<00:13, 7936.90it/s]\u001B[A\n",
      " 17%|█▋        | 22034/127830 [00:02<00:13, 7897.06it/s]\u001B[A\n",
      " 18%|█▊        | 22833/127830 [00:02<00:16, 6464.80it/s]\u001B[A\n",
      " 18%|█▊        | 23616/127830 [00:02<00:15, 6790.17it/s]\u001B[A\n",
      " 19%|█▉        | 24334/127830 [00:02<00:16, 6188.11it/s]\u001B[A\n",
      " 20%|█▉        | 24987/127830 [00:03<00:16, 6075.79it/s]\u001B[A\n",
      " 20%|██        | 25728/127830 [00:03<00:15, 6409.65it/s]\u001B[A\n",
      " 21%|██        | 26390/127830 [00:03<00:18, 5492.32it/s]\u001B[A\n",
      " 21%|██▏       | 27200/127830 [00:03<00:16, 6128.68it/s]\u001B[A\n",
      " 22%|██▏       | 28633/127830 [00:03<00:12, 8222.02it/s]\u001B[A\n",
      " 24%|██▍       | 30417/127830 [00:03<00:09, 10794.04it/s]\u001B[A\n",
      " 25%|██▍       | 31576/127830 [00:03<00:08, 11002.66it/s]\u001B[A\n",
      " 26%|██▌       | 32725/127830 [00:03<00:12, 7623.21it/s] \u001B[A\n",
      " 26%|██▋       | 33661/127830 [00:04<00:12, 7834.70it/s]\u001B[A\n",
      " 27%|██▋       | 34654/127830 [00:04<00:11, 8146.17it/s]\u001B[A\n",
      " 28%|██▊       | 35564/127830 [00:04<00:13, 6964.30it/s]\u001B[A\n",
      " 29%|██▊       | 36614/127830 [00:04<00:11, 7760.73it/s]\u001B[A\n",
      " 29%|██▉       | 37479/127830 [00:04<00:12, 7155.65it/s]\u001B[A\n",
      " 30%|██▉       | 38330/127830 [00:04<00:11, 7471.69it/s]\u001B[A\n",
      " 31%|███       | 39132/127830 [00:04<00:12, 6992.97it/s]\u001B[A\n",
      " 31%|███▏      | 40038/127830 [00:04<00:11, 7492.82it/s]\u001B[A\n",
      " 32%|███▏      | 40875/127830 [00:05<00:11, 7711.53it/s]\u001B[A\n",
      " 33%|███▎      | 41676/127830 [00:05<00:11, 7473.89it/s]\u001B[A\n",
      " 33%|███▎      | 42445/127830 [00:05<00:11, 7371.59it/s]\u001B[A\n",
      " 34%|███▍      | 43298/127830 [00:05<00:11, 7589.00it/s]\u001B[A\n",
      " 35%|███▍      | 44288/127830 [00:05<00:10, 8222.02it/s]\u001B[A\n",
      " 35%|███▌      | 45123/127830 [00:05<00:10, 8197.62it/s]\u001B[A\n",
      " 36%|███▌      | 45952/127830 [00:05<00:10, 7599.18it/s]\u001B[A\n",
      " 37%|███▋      | 46952/127830 [00:05<00:09, 8248.40it/s]\u001B[A\n",
      " 37%|███▋      | 47838/127830 [00:05<00:09, 8408.57it/s]\u001B[A\n",
      " 38%|███▊      | 48691/127830 [00:06<00:10, 7739.31it/s]\u001B[A\n",
      " 39%|███▉      | 49997/127830 [00:06<00:08, 9174.25it/s]\u001B[A\n",
      " 40%|███▉      | 50940/127830 [00:06<00:09, 7693.61it/s]\u001B[A\n",
      " 40%|████      | 51765/127830 [00:06<00:11, 6362.65it/s]\u001B[A\n",
      " 41%|████      | 52471/127830 [00:06<00:12, 6085.10it/s]\u001B[A\n",
      " 42%|████▏     | 53325/127830 [00:06<00:11, 6639.60it/s]\u001B[A\n",
      " 42%|████▏     | 54038/127830 [00:06<00:11, 6659.06it/s]\u001B[A\n",
      " 43%|████▎     | 54756/127830 [00:06<00:10, 6779.17it/s]\u001B[A\n",
      " 43%|████▎     | 55460/127830 [00:07<00:12, 5967.12it/s]\u001B[A\n",
      " 44%|████▍     | 56089/127830 [00:07<00:12, 5582.08it/s]\u001B[A\n",
      " 44%|████▍     | 56778/127830 [00:07<00:12, 5808.07it/s]\u001B[A\n",
      " 45%|████▍     | 57379/127830 [00:07<00:14, 5016.93it/s]\u001B[A\n",
      " 46%|████▌     | 58422/127830 [00:07<00:11, 6300.22it/s]\u001B[A\n",
      " 46%|████▌     | 59103/127830 [00:07<00:11, 6012.85it/s]\u001B[A\n",
      " 47%|████▋     | 59740/127830 [00:07<00:15, 4364.11it/s]\u001B[A\n",
      " 47%|████▋     | 60261/127830 [00:08<00:15, 4489.73it/s]\u001B[A\n",
      " 48%|████▊     | 60948/127830 [00:08<00:13, 5020.89it/s]\u001B[A\n",
      " 49%|████▊     | 62106/127830 [00:08<00:09, 6606.70it/s]\u001B[A\n",
      " 49%|████▉     | 62846/127830 [00:08<00:09, 6727.41it/s]\u001B[A\n",
      " 50%|████▉     | 63691/127830 [00:08<00:08, 7185.31it/s]\u001B[A\n",
      " 50%|█████     | 64467/127830 [00:08<00:08, 7325.60it/s]\u001B[A\n",
      " 51%|█████     | 65233/127830 [00:08<00:08, 7042.04it/s]\u001B[A\n",
      " 52%|█████▏    | 65962/127830 [00:08<00:10, 6146.89it/s]\u001B[A\n",
      " 52%|█████▏    | 66667/127830 [00:08<00:09, 6352.32it/s]\u001B[A\n",
      " 53%|█████▎    | 67331/127830 [00:09<00:09, 6302.65it/s]\u001B[A\n",
      " 53%|█████▎    | 67981/127830 [00:09<00:11, 5188.94it/s]\u001B[A\n",
      " 54%|█████▎    | 68543/127830 [00:09<00:14, 4229.39it/s]\u001B[A\n",
      " 54%|█████▍    | 69019/127830 [00:09<00:25, 2282.83it/s]\u001B[A\n",
      " 55%|█████▍    | 69760/127830 [00:10<00:19, 2994.37it/s]\u001B[A\n",
      " 55%|█████▍    | 70234/127830 [00:10<00:18, 3138.01it/s]\u001B[A\n",
      " 55%|█████▌    | 70688/127830 [00:10<00:17, 3333.75it/s]\u001B[A\n",
      " 56%|█████▌    | 71225/127830 [00:10<00:15, 3747.21it/s]\u001B[A\n",
      " 56%|█████▋    | 72211/127830 [00:10<00:10, 5128.05it/s]\u001B[A\n",
      " 57%|█████▋    | 72830/127830 [00:10<00:12, 4367.79it/s]\u001B[A\n",
      " 57%|█████▋    | 73359/127830 [00:10<00:12, 4322.32it/s]\u001B[A\n",
      " 58%|█████▊    | 74454/127830 [00:10<00:09, 5526.17it/s]\u001B[A\n",
      " 59%|█████▊    | 75064/127830 [00:11<00:11, 4450.54it/s]\u001B[A\n",
      " 59%|█████▉    | 75576/127830 [00:11<00:13, 3741.91it/s]\u001B[A\n",
      " 59%|█████▉    | 76009/127830 [00:11<00:15, 3417.06it/s]\u001B[A\n",
      " 60%|█████▉    | 76390/127830 [00:11<00:22, 2257.08it/s]\u001B[A\n",
      " 60%|██████    | 77029/127830 [00:12<00:17, 2896.16it/s]\u001B[A\n",
      " 61%|██████    | 77570/127830 [00:12<00:16, 3117.36it/s]\u001B[A\n",
      " 61%|██████    | 77964/127830 [00:12<00:17, 2819.74it/s]\u001B[A\n",
      " 61%|██████▏   | 78543/127830 [00:12<00:14, 3388.00it/s]\u001B[A\n",
      " 62%|██████▏   | 78954/127830 [00:12<00:14, 3322.97it/s]\u001B[A\n",
      " 62%|██████▏   | 79610/127830 [00:12<00:11, 4029.26it/s]\u001B[A\n",
      " 63%|██████▎   | 80070/127830 [00:12<00:12, 3947.39it/s]\u001B[A\n",
      " 63%|██████▎   | 80540/127830 [00:12<00:11, 4127.55it/s]\u001B[A\n",
      " 64%|██████▎   | 81174/127830 [00:12<00:09, 4696.71it/s]\u001B[A\n",
      " 64%|██████▍   | 81810/127830 [00:13<00:08, 5140.63it/s]\u001B[A\n",
      " 64%|██████▍   | 82444/127830 [00:13<00:08, 5464.64it/s]\u001B[A\n",
      " 65%|██████▌   | 83155/127830 [00:13<00:07, 5930.25it/s]\u001B[A\n",
      " 66%|██████▌   | 83765/127830 [00:13<00:09, 4554.19it/s]\u001B[A\n",
      " 66%|██████▌   | 84538/127830 [00:13<00:08, 5305.16it/s]\u001B[A\n",
      " 67%|██████▋   | 85129/127830 [00:13<00:07, 5358.17it/s]\u001B[A\n",
      " 67%|██████▋   | 85708/127830 [00:13<00:11, 3763.55it/s]\u001B[A\n",
      " 67%|██████▋   | 86177/127830 [00:14<00:13, 3088.85it/s]\u001B[A\n",
      " 68%|██████▊   | 86565/127830 [00:14<00:16, 2551.64it/s]\u001B[A\n",
      " 68%|██████▊   | 87010/127830 [00:14<00:14, 2877.31it/s]\u001B[A\n",
      " 69%|██████▊   | 87799/127830 [00:14<00:10, 3687.88it/s]\u001B[A\n",
      " 69%|██████▉   | 88318/127830 [00:14<00:09, 4003.53it/s]\u001B[A\n",
      " 70%|██████▉   | 89048/127830 [00:14<00:08, 4744.04it/s]\u001B[A\n",
      " 71%|███████   | 90131/127830 [00:14<00:06, 6248.25it/s]\u001B[A\n",
      " 71%|███████   | 90921/127830 [00:15<00:05, 6602.43it/s]\u001B[A\n",
      " 72%|███████▏  | 91776/127830 [00:15<00:05, 6125.85it/s]\u001B[A\n",
      " 72%|███████▏  | 92437/127830 [00:15<00:09, 3774.14it/s]\u001B[A\n",
      " 73%|███████▎  | 92955/127830 [00:15<00:10, 3267.03it/s]\u001B[A\n",
      " 73%|███████▎  | 93601/127830 [00:15<00:08, 3807.19it/s]\u001B[A\n",
      " 74%|███████▍  | 94469/127830 [00:16<00:07, 4743.05it/s]\u001B[A\n",
      " 74%|███████▍  | 95071/127830 [00:16<00:07, 4453.81it/s]\u001B[A\n",
      " 75%|███████▍  | 95683/127830 [00:16<00:06, 4813.69it/s]\u001B[A\n",
      " 75%|███████▌  | 96241/127830 [00:16<00:06, 4710.83it/s]\u001B[A\n",
      " 76%|███████▌  | 96765/127830 [00:16<00:06, 4782.69it/s]\u001B[A\n",
      " 76%|███████▌  | 97282/127830 [00:16<00:08, 3544.27it/s]\u001B[A\n",
      " 76%|███████▋  | 97784/127830 [00:16<00:07, 3846.11it/s]\u001B[A\n",
      " 77%|███████▋  | 98512/127830 [00:16<00:06, 4633.12it/s]\u001B[A\n",
      " 78%|███████▊  | 99432/127830 [00:17<00:04, 5752.96it/s]\u001B[A\n",
      " 78%|███████▊  | 100079/127830 [00:17<00:04, 5719.65it/s]\u001B[A\n",
      " 79%|███████▉  | 100701/127830 [00:17<00:06, 4295.23it/s]\u001B[A\n",
      " 79%|███████▉  | 101364/127830 [00:17<00:05, 4752.84it/s]\u001B[A\n",
      " 80%|███████▉  | 101914/127830 [00:17<00:05, 4630.13it/s]\u001B[A\n",
      " 80%|████████  | 102672/127830 [00:17<00:04, 5333.80it/s]\u001B[A\n",
      " 81%|████████  | 103259/127830 [00:18<00:06, 3682.51it/s]\u001B[A\n",
      " 81%|████████  | 103731/127830 [00:18<00:09, 2633.10it/s]\u001B[A\n",
      " 82%|████████▏ | 104727/127830 [00:18<00:06, 3801.83it/s]\u001B[A\n",
      " 82%|████████▏ | 105381/127830 [00:18<00:05, 4306.12it/s]\u001B[A\n",
      " 83%|████████▎ | 105967/127830 [00:19<00:07, 2843.74it/s]\u001B[A\n",
      " 84%|████████▎ | 106782/127830 [00:19<00:05, 3664.89it/s]\u001B[A\n",
      " 84%|████████▍ | 107606/127830 [00:19<00:05, 3902.44it/s]\u001B[A\n",
      " 85%|████████▍ | 108134/127830 [00:19<00:05, 3305.24it/s]\u001B[A\n",
      " 85%|████████▌ | 108664/127830 [00:19<00:05, 3643.93it/s]\u001B[A\n",
      " 85%|████████▌ | 109155/127830 [00:19<00:05, 3555.62it/s]\u001B[A\n",
      " 86%|████████▌ | 109587/127830 [00:19<00:04, 3705.74it/s]\u001B[A\n",
      " 86%|████████▋ | 110313/127830 [00:19<00:03, 4502.45it/s]\u001B[A\n",
      " 87%|████████▋ | 110827/127830 [00:20<00:03, 4403.35it/s]\u001B[A\n",
      " 87%|████████▋ | 111668/127830 [00:20<00:02, 5387.88it/s]\u001B[A\n",
      " 88%|████████▊ | 112258/127830 [00:20<00:04, 3313.67it/s]\u001B[A\n",
      " 88%|████████▊ | 112957/127830 [00:20<00:03, 3981.92it/s]\u001B[A\n",
      " 89%|████████▉ | 113490/127830 [00:20<00:03, 3597.25it/s]\u001B[A\n",
      " 89%|████████▉ | 113948/127830 [00:21<00:04, 3303.32it/s]\u001B[A\n",
      " 89%|████████▉ | 114368/127830 [00:21<00:03, 3462.59it/s]\u001B[A\n",
      " 90%|████████▉ | 114826/127830 [00:21<00:03, 3704.00it/s]\u001B[A\n",
      " 90%|█████████ | 115416/127830 [00:21<00:02, 4210.61it/s]\u001B[A\n",
      " 91%|█████████ | 115928/127830 [00:21<00:02, 4435.57it/s]\u001B[A\n",
      " 91%|█████████ | 116493/127830 [00:21<00:02, 4748.86it/s]\u001B[A\n",
      " 92%|█████████▏| 117274/127830 [00:21<00:01, 5579.32it/s]\u001B[A\n",
      " 92%|█████████▏| 117860/127830 [00:21<00:02, 4558.36it/s]\u001B[A\n",
      " 93%|█████████▎| 118365/127830 [00:21<00:02, 4331.80it/s]\u001B[A\n",
      " 93%|█████████▎| 118833/127830 [00:22<00:02, 3913.52it/s]\u001B[A\n",
      " 93%|█████████▎| 119340/127830 [00:22<00:02, 4179.99it/s]\u001B[A\n",
      " 94%|█████████▍| 119845/127830 [00:22<00:01, 4391.56it/s]\u001B[A\n",
      " 94%|█████████▍| 120307/127830 [00:22<00:01, 4093.97it/s]\u001B[A\n",
      " 95%|█████████▍| 120916/127830 [00:22<00:01, 4600.30it/s]\u001B[A\n",
      " 95%|█████████▍| 121397/127830 [00:22<00:01, 3385.43it/s]\u001B[A\n",
      " 95%|█████████▌| 121794/127830 [00:22<00:02, 2940.26it/s]\u001B[A\n",
      " 96%|█████████▌| 122135/127830 [00:23<00:01, 2861.85it/s]\u001B[A\n",
      " 96%|█████████▌| 122453/127830 [00:23<00:02, 2594.64it/s]\u001B[A\n",
      " 96%|█████████▌| 122979/127830 [00:23<00:01, 3169.89it/s]\u001B[A\n",
      " 96%|█████████▋| 123335/127830 [00:23<00:01, 3145.45it/s]\u001B[A\n",
      " 97%|█████████▋| 123792/127830 [00:23<00:01, 3483.74it/s]\u001B[A\n",
      " 97%|█████████▋| 124166/127830 [00:23<00:01, 2882.71it/s]\u001B[A\n",
      " 97%|█████████▋| 124487/127830 [00:23<00:01, 2920.59it/s]\u001B[A\n",
      " 98%|█████████▊| 124958/127830 [00:23<00:00, 3355.90it/s]\u001B[A\n",
      " 98%|█████████▊| 125364/127830 [00:24<00:00, 3533.93it/s]\u001B[A\n",
      " 98%|█████████▊| 125739/127830 [00:24<00:00, 3034.45it/s]\u001B[A\n",
      " 99%|█████████▊| 126069/127830 [00:24<00:00, 3010.77it/s]\u001B[A\n",
      " 99%|█████████▉| 126388/127830 [00:24<00:00, 2893.59it/s]\u001B[A\n",
      " 99%|█████████▉| 127015/127830 [00:24<00:00, 3754.88it/s]\u001B[A\n",
      "100%|█████████▉| 127414/127830 [00:24<00:00, 3594.25it/s]\u001B[A\n",
      "100%|█████████▉| 127791/127830 [00:24<00:00, 3331.59it/s]\u001B[A"
     ]
    }
   ],
   "source": [
    "pb=tqdm.tqdm(total=len(r_list))\n",
    "year_edges={}\n",
    "for r in r_list:\n",
    "    authors=r.xpath('.//author')\n",
    "    year=r.xpath('.//year')[0].text\n",
    "    authors_pid=[author.attrib['pid'] for author in authors]\n",
    "    if len(authors)>1:\n",
    "        for i in range(len(authors_pid)):\n",
    "            for j in range(i+1,len(authors_pid)):\n",
    "                if authors_pid[i] in pids and authors_pid[j] in pids:\n",
    "                    if year not in year_edges:\n",
    "                        year_edges[year]=[]\n",
    "                    if (authors_pid[i],authors_pid[j]) not in year_edges[year] and (authors_pid[j],authors_pid[i]) not in year_edges[year]:\n",
    "                        year_edges[year].append((pid_idx[authors_pid[i]],pid_idx[authors_pid[j]]))\n",
    "    pb.update(1)             "
   ],
   "metadata": {
    "collapsed": false,
    "ExecuteTime": {
     "end_time": "2024-04-17T21:51:22.284297800Z",
     "start_time": "2024-04-17T21:50:57.427635700Z"
    }
   },
   "id": "3f17c5dcad2eb822"
  },
  {
   "cell_type": "code",
   "execution_count": 46,
   "outputs": [
    {
     "name": "stdout",
     "output_type": "stream",
     "text": [
      "2024 320\n",
      "2023 1579\n",
      "2022 1850\n",
      "2021 1266\n",
      "2020 1421\n",
      "2019 1644\n",
      "2018 1264\n",
      "2017 1184\n",
      "2016 1269\n",
      "2015 1103\n",
      "2014 1122\n",
      "2013 815\n",
      "2012 760\n",
      "2011 690\n",
      "2010 592\n",
      "2008 614\n",
      "2007 405\n",
      "2009 686\n",
      "2006 353\n",
      "2005 355\n",
      "2004 278\n",
      "2003 266\n",
      "2000 104\n",
      "1998 71\n",
      "2002 152\n",
      "2001 121\n",
      "1999 85\n",
      "1997 56\n",
      "1995 32\n",
      "1994 29\n",
      "1993 20\n",
      "1996 34\n",
      "1992 8\n",
      "1991 9\n",
      "1990 10\n",
      "1989 4\n",
      "1988 4\n",
      "1986 3\n",
      "1982 2\n",
      "1984 3\n",
      "1987 1\n"
     ]
    }
   ],
   "source": [
    "for year in year_edges:\n",
    "    year_edges[year]=list(set(year_edges[year]))\n",
    "    for e in year_edges[year]:\n",
    "        if (e[1],e[0]) in year_edges[year]:\n",
    "            year_edges[year].remove((e[1],e[0]))\n",
    "    print(year,len(year_edges[year]))"
   ],
   "metadata": {
    "collapsed": false,
    "ExecuteTime": {
     "end_time": "2024-04-17T22:06:30.341846400Z",
     "start_time": "2024-04-17T22:06:30.171202300Z"
    }
   },
   "id": "7226d5d6b1cb5656"
  },
  {
   "cell_type": "code",
   "execution_count": 61,
   "outputs": [],
   "source": [
    "with open('year_edges.pkl','wb') as f:\n",
    "    pickle.dump(year_edges,f)\n",
    "with open('pid_idx.pkl','wb') as f:\n",
    "    pickle.dump(pid_idx,f)\n",
    "with open('inv_pid_idx.pkl','wb') as f:\n",
    "    pickle.dump(inv_pid_idx,f)"
   ],
   "metadata": {
    "collapsed": false,
    "ExecuteTime": {
     "end_time": "2024-04-17T22:14:49.064944200Z",
     "start_time": "2024-04-17T22:14:49.027133800Z"
    }
   },
   "id": "5a3eee503baf2bf7"
  },
  {
   "cell_type": "code",
   "execution_count": 48,
   "outputs": [],
   "source": [
    "edges=[]\n",
    "for year in year_edges:\n",
    "    edges.extend(year_edges[year])\n",
    "edges=list(set(edges))"
   ],
   "metadata": {
    "collapsed": false,
    "ExecuteTime": {
     "end_time": "2024-04-17T22:06:40.767851200Z",
     "start_time": "2024-04-17T22:06:40.760562700Z"
    }
   },
   "id": "6f11588b908f5b2b"
  },
  {
   "cell_type": "code",
   "execution_count": 49,
   "outputs": [],
   "source": [
    "for e in edges:\n",
    "    if (e[1],e[0]) in edges:\n",
    "        edges.remove((e[1],e[0]))"
   ],
   "metadata": {
    "collapsed": false,
    "ExecuteTime": {
     "end_time": "2024-04-17T22:06:44.991233700Z",
     "start_time": "2024-04-17T22:06:44.564158900Z"
    }
   },
   "id": "2df528299f438810"
  },
  {
   "cell_type": "code",
   "execution_count": 50,
   "outputs": [],
   "source": [
    "G=nx.Graph()\n",
    "for idx in inv_pid_idx:\n",
    "    G.add_node(idx)\n",
    "G.add_edges_from(edges)"
   ],
   "metadata": {
    "collapsed": false,
    "ExecuteTime": {
     "end_time": "2024-04-17T22:06:47.786552Z",
     "start_time": "2024-04-17T22:06:47.773525100Z"
    }
   },
   "id": "81d1b31b0fe2047c"
  },
  {
   "cell_type": "code",
   "execution_count": 51,
   "outputs": [
    {
     "data": {
      "text/plain": "<Figure size 1000x1000 with 1 Axes>",
      "image/png": "[encoded data removed]"
     },
     "metadata": {},
     "output_type": "display_data"
    }
   ],
   "source": [
    "#draw the graph\n",
    "plt.figure(figsize=(10,10))\n",
    "pos = nx.spring_layout(G)\n",
    "nx.draw(G, pos, node_size=10, node_color=\"blue\", with_labels=False)\n",
    "plt.savefig('graph.png')"
   ],
   "metadata": {
    "collapsed": false,
    "ExecuteTime": {
     "end_time": "2024-04-17T22:06:51.883823300Z",
     "start_time": "2024-04-17T22:06:49.515354800Z"
    }
   },
   "id": "892a87c5bda2fd95"
  },
  {
   "cell_type": "code",
   "execution_count": 55,
   "outputs": [
    {
     "name": "stdout",
     "output_type": "stream",
     "text": [
      "Number of nodes:  1028\n",
      "Number of edges:  7327\n",
      "Average clustering coefficient:  0.3043159815248051\n",
      "Average degree: 14.254863813229573\n",
      "Number of connected components: 69\n",
      "Size of largest connected component: 955\n"
     ]
    }
   ],
   "source": [
    "#graph analysis\n",
    "print(\"Number of nodes: \", G.number_of_nodes())\n",
    "print(\"Number of edges: \", G.number_of_edges())\n",
    "print(\"Average clustering coefficient: \", nx.average_clustering(G))\n",
    "print('Average degree:', sum(dict(G.degree()).values())/G.number_of_nodes())\n",
    "print('Number of connected components:', nx.number_connected_components(G))\n",
    "print('Size of largest connected component:', len(max(nx.connected_components(G), key=len)))"
   ],
   "metadata": {
    "collapsed": false,
    "ExecuteTime": {
     "end_time": "2024-04-17T22:11:34.592177800Z",
     "start_time": "2024-04-17T22:11:34.550657800Z"
    }
   },
   "id": "bffdc2b8d35de7f1"
  },
  {
   "cell_type": "code",
   "execution_count": 57,
   "outputs": [
    {
     "data": {
      "text/plain": "{98: 1,\n 94: 1,\n 93: 1,\n 91: 1,\n 90: 1,\n 88: 1,\n 87: 1,\n 83: 1,\n 81: 1,\n 78: 1,\n 77: 1,\n 76: 1,\n 75: 1,\n 73: 1,\n 70: 2,\n 69: 2,\n 68: 3,\n 67: 1,\n 66: 1,\n 65: 2,\n 64: 1,\n 63: 1,\n 62: 1,\n 61: 5,\n 60: 2,\n 59: 1,\n 58: 3,\n 57: 1,\n 56: 4,\n 54: 2,\n 52: 2,\n 51: 2,\n 50: 3,\n 49: 1,\n 48: 2,\n 47: 1,\n 46: 3,\n 45: 7,\n 44: 3,\n 43: 6,\n 42: 2,\n 41: 5,\n 40: 2,\n 39: 5,\n 38: 3,\n 37: 5,\n 36: 1,\n 35: 4,\n 34: 5,\n 33: 6,\n 32: 7,\n 31: 7,\n 30: 14,\n 29: 2,\n 28: 7,\n 27: 12,\n 26: 6,\n 25: 9,\n 24: 11,\n 23: 15,\n 22: 14,\n 21: 9,\n 20: 19,\n 19: 18,\n 18: 18,\n 17: 14,\n 16: 21,\n 15: 19,\n 14: 19,\n 13: 29,\n 12: 26,\n 11: 38,\n 10: 34,\n 9: 32,\n 8: 38,\n 7: 41,\n 6: 54,\n 5: 60,\n 4: 55,\n 3: 82,\n 2: 59,\n 1: 60,\n 0: 65}"
     },
     "execution_count": 57,
     "metadata": {},
     "output_type": "execute_result"
    }
   ],
   "source": [
    "degree_sequence = sorted([d for n, d in G.degree()], reverse=True)\n",
    "degree_count={}\n",
    "for d in degree_sequence:\n",
    "    if d not in degree_count:\n",
    "        degree_count[d]=0\n",
    "    degree_count[d]+=1\n",
    "degree_count"
   ],
   "metadata": {
    "collapsed": false,
    "ExecuteTime": {
     "end_time": "2024-04-17T22:13:05.665816900Z",
     "start_time": "2024-04-17T22:13:05.601082700Z"
    }
   },
   "id": "ecd862917feb397a"
  },
  {
   "cell_type": "code",
   "execution_count": 60,
   "outputs": [
    {
     "data": {
      "text/plain": "<Figure size 1000x1000 with 1 Axes>",
      "image/png": "[encoded data removed]"
     },
     "metadata": {},
     "output_type": "display_data"
    }
   ],
   "source": [
    "plt.figure(figsize=(10,10))\n",
    "plt.bar(degree_count.keys(),degree_count.values())\n",
    "plt.xlabel('Degree')\n",
    "plt.ylabel('Number of nodes')\n",
    "plt.show()\n",
    "#plt.savefig('degree_distribution.png')"
   ],
   "metadata": {
    "collapsed": false,
    "ExecuteTime": {
     "end_time": "2024-04-17T22:14:20.348523900Z",
     "start_time": "2024-04-17T22:14:20.252790500Z"
    }
   },
   "id": "eb27bdc4f6bf0e6"
  },
  {
   "cell_type": "code",
   "execution_count": null,
   "outputs": [],
   "source": [],
   "metadata": {
    "collapsed": false
   },
   "id": "802c49086323c2e1"
  }
 ],
 "metadata": {
  "kernelspec": {
   "display_name": "Python 3",
   "language": "python",
   "name": "python3"
  },
  "language_info": {
   "codemirror_mode": {
    "name": "ipython",
    "version": 2
   },
   "file_extension": ".py",
   "mimetype": "text/x-python",
   "name": "python",
   "nbconvert_exporter": "python",
   "pygments_lexer": "ipython2",
   "version": "2.7.6"
  }
 },
 "nbformat": 4,
 "nbformat_minor": 5
}

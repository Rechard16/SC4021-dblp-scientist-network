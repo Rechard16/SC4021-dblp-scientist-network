{
 "cells": [
  {
   "cell_type": "code",
   "execution_count": null,
   "metadata": {},
   "outputs": [],
   "source": [
    "from lxml import etree as ET\n",
    "\n",
    "data = ET.parse('combined.xml')\n",
    "persons=data.xpath('//dblpperson')\n",
    "names = [person.attrib['name'] for person in persons]\n",
    "names\n",
    "pids = [person.attrib['pid'] for person in persons]\n",
    "pid_dict = dict(zip(pids, names))\n",
    "pid_dict\n",
    "num_index=[i for i in range(len(persons))]\n",
    "num_index\n",
    "index_dict = dict(zip(pids,num_index))\n",
    "index_dict\n",
    "inversed_index_dict = dict(zip(num_index,pids))"
   ]
  },
  {
   "cell_type": "code",
   "execution_count": null,
   "metadata": {},
   "outputs": [],
   "source": []
  },
  {
   "cell_type": "code",
   "execution_count": null,
   "metadata": {},
   "outputs": [],
   "source": [
    "import networkx as nx\n",
    "import matplotlib.pyplot as plt\n",
    "import random\n",
    "\n",
    "def generate_random_network(numbers, p):\n",
    "    G = nx.Graph()\n",
    "    G.add_nodes_from(numbers)\n",
    "    \n",
    "    for i in range(len(numbers)):\n",
    "        for j in range(i+1, len(numbers)):\n",
    "            if random.random() < p:\n",
    "                G.add_edge(numbers[i], numbers[j])\n",
    "    \n",
    "    return G\n",
    "\n",
    "# Example usage\n",
    "numbers = [1, 2, 3, 4, 5]\n",
    "p = 0.01  # Probability of creating an edge between two nodes\n",
    "\n",
    "random_network = generate_random_network(num_index, p)\n",
    "\n",
    "# Print the edges of the random network\n",
    "print(random_network.edges())\n",
    "\n",
    "# Visualize the graph\n",
    "plt.figure(figsize=(8, 6))  # Set the figure size (optional)\n",
    "nx.draw(random_network, with_labels=True, node_color='skyblue', edge_color='#909090', node_size=500, font_size=16)\n",
    "plt.title('Random Network Visualization')\n",
    "plt.show()\n"
   ]
  }
 ],
 "metadata": {
  "kernelspec": {
   "display_name": ".venv",
   "language": "python",
   "name": "python3"
  },
  "language_info": {
   "codemirror_mode": {
    "name": "ipython",
    "version": 3
   },
   "file_extension": ".py",
   "mimetype": "text/x-python",
   "name": "python",
   "nbconvert_exporter": "python",
   "pygments_lexer": "ipython3",
   "version": "3.11.9"
  }
 },
 "nbformat": 4,
 "nbformat_minor": 2
}
